{
  "cells": [
    {
      "cell_type": "markdown",
      "source": [
        "# 미니 의도분석기 실습"
      ],
      "metadata": {
        "id": "2thoqbic4Uxv"
      },
      "id": "2thoqbic4Uxv"
    },
    {
      "cell_type": "markdown",
      "source": [
        "## 학습목차"
      ],
      "metadata": {
        "id": "DvSwQRJu4zRE"
      },
      "id": "DvSwQRJu4zRE"
    },
    {
      "cell_type": "markdown",
      "source": [
        "0. 필요 라이브러리 임포트\n",
        " - python, konlpy, pandas, Komoran\n",
        "1. 사전 데이터 확인\n",
        " - 개체명 파일, 액션-개체명 파일, 액션-패턴 파일\n",
        "2. 발화 형태소 분석 (Komoran 형태소 분석기 사용)\n",
        " - 액션-패턴 파일 변경하여 저장\n",
        "3. 개체명 검색\n",
        " - 일치하는 개체명이 있을 시 치환 (ex. 에어컨 -> iot_device)\n",
        "4. 패턴 검색\n",
        " - 일치하는 패턴 발견 시 액션 반환, 발견하지 못하면 None 반환\n"
      ],
      "metadata": {
        "id": "69TjZh1p5C3j"
      },
      "id": "69TjZh1p5C3j"
    },
    {
      "cell_type": "markdown",
      "source": [
        "# 0. 필요 라이브러리 임포트"
      ],
      "metadata": {
        "id": "oAAVbiXX6nMk"
      },
      "id": "oAAVbiXX6nMk"
    },
    {
      "cell_type": "markdown",
      "source": [
        "### python, konlpy"
      ],
      "metadata": {
        "id": "bTzIWQRt68ku"
      },
      "id": "bTzIWQRt68ku"
    },
    {
      "cell_type": "code",
      "source": [
        "%%bash\n",
        "apt-get update\n",
        "apt-get install g++ openjdk-8-jdk python-dev python3-dev\n",
        "pip3 install konlpy"
      ],
      "metadata": {
        "id": "EztmdWtI7EIU",
        "colab": {
          "base_uri": "https://localhost:8080/"
        },
        "outputId": "fc8bb08a-d704-49b1-c3ce-9e4f1af9dc49"
      },
      "id": "EztmdWtI7EIU",
      "execution_count": null,
      "outputs": [
        {
          "output_type": "stream",
          "name": "stdout",
          "text": [
            "Get:1 http://security.ubuntu.com/ubuntu focal-security InRelease [114 kB]\n",
            "Hit:2 https://cloud.r-project.org/bin/linux/ubuntu focal-cran40/ InRelease\n",
            "Hit:3 https://developer.download.nvidia.com/compute/cuda/repos/ubuntu2004/x86_64  InRelease\n",
            "Hit:4 http://archive.ubuntu.com/ubuntu focal InRelease\n",
            "Get:5 http://archive.ubuntu.com/ubuntu focal-updates InRelease [114 kB]\n",
            "Hit:6 http://ppa.launchpad.net/c2d4u.team/c2d4u4.0+/ubuntu focal InRelease\n",
            "Hit:7 http://ppa.launchpad.net/cran/libgit2/ubuntu focal InRelease\n",
            "Hit:8 http://ppa.launchpad.net/deadsnakes/ppa/ubuntu focal InRelease\n",
            "Get:9 http://archive.ubuntu.com/ubuntu focal-backports InRelease [108 kB]\n",
            "Hit:10 http://ppa.launchpad.net/graphics-drivers/ppa/ubuntu focal InRelease\n",
            "Hit:11 http://ppa.launchpad.net/ubuntugis/ppa/ubuntu focal InRelease\n",
            "Fetched 336 kB in 3s (131 kB/s)\n",
            "Reading package lists...\n",
            "Reading package lists...\n",
            "Building dependency tree...\n",
            "Reading state information...\n",
            "g++ is already the newest version (4:9.3.0-1ubuntu2).\n",
            "python3-dev is already the newest version (3.8.2-0ubuntu2).\n",
            "python-dev-is-python2 is already the newest version (2.7.17-4).\n",
            "openjdk-8-jdk is already the newest version (8u362-ga-0ubuntu1~20.04.1).\n",
            "0 upgraded, 0 newly installed, 0 to remove and 25 not upgraded.\n",
            "Looking in indexes: https://pypi.org/simple, https://us-python.pkg.dev/colab-wheels/public/simple/\n",
            "Requirement already satisfied: konlpy in /usr/local/lib/python3.10/dist-packages (0.6.0)\n",
            "Requirement already satisfied: numpy>=1.6 in /usr/local/lib/python3.10/dist-packages (from konlpy) (1.22.4)\n",
            "Requirement already satisfied: lxml>=4.1.0 in /usr/local/lib/python3.10/dist-packages (from konlpy) (4.9.2)\n",
            "Requirement already satisfied: JPype1>=0.7.0 in /usr/local/lib/python3.10/dist-packages (from konlpy) (1.4.1)\n",
            "Requirement already satisfied: packaging in /usr/local/lib/python3.10/dist-packages (from JPype1>=0.7.0->konlpy) (23.1)\n"
          ]
        }
      ]
    },
    {
      "cell_type": "markdown",
      "source": [
        "### pandas, Komoran"
      ],
      "metadata": {
        "id": "ccoODns26vac"
      },
      "id": "ccoODns26vac"
    },
    {
      "cell_type": "code",
      "source": [
        "import pandas as pd\n",
        "from konlpy.tag import Komoran"
      ],
      "metadata": {
        "id": "MS8J_db56uNa"
      },
      "id": "MS8J_db56uNa",
      "execution_count": null,
      "outputs": []
    },
    {
      "cell_type": "markdown",
      "source": [
        "# 1. 사전 데이터 확인"
      ],
      "metadata": {
        "id": "_ySdejJb6HQL"
      },
      "id": "_ySdejJb6HQL"
    },
    {
      "cell_type": "markdown",
      "source": [
        "### <font color=green> 구글 드라이브 연동 </font>"
      ],
      "metadata": {
        "id": "9cjOpFMdC0_N"
      },
      "id": "9cjOpFMdC0_N"
    },
    {
      "cell_type": "code",
      "source": [
        "from google.colab import drive\n",
        "drive.mount('/content/drive')"
      ],
      "metadata": {
        "colab": {
          "base_uri": "https://localhost:8080/"
        },
        "id": "1has_LWF33Ln",
        "outputId": "207d1d60-9532-4d7a-e989-9690a456152c"
      },
      "id": "1has_LWF33Ln",
      "execution_count": null,
      "outputs": [
        {
          "output_type": "stream",
          "name": "stdout",
          "text": [
            "Drive already mounted at /content/drive; to attempt to forcibly remount, call drive.mount(\"/content/drive\", force_remount=True).\n"
          ]
        }
      ]
    },
    {
      "cell_type": "code",
      "source": [
        "%cd \"/content/drive/My Drive/\"\n",
        "!git clone \"https://github.com/kisa036/mini_nlp.git\""
      ],
      "metadata": {
        "colab": {
          "base_uri": "https://localhost:8080/"
        },
        "id": "GvbWPqNB39tO",
        "outputId": "9ebbeb7a-1b7c-4f80-d3f3-e6def961ae59"
      },
      "id": "GvbWPqNB39tO",
      "execution_count": null,
      "outputs": [
        {
          "output_type": "stream",
          "name": "stdout",
          "text": [
            "/content/drive/My Drive/test3\n",
            "Cloning into 'mini_nlp'...\n",
            "remote: Enumerating objects: 11, done.\u001b[K\n",
            "remote: Counting objects: 100% (11/11), done.\u001b[K\n",
            "remote: Compressing objects: 100% (11/11), done.\u001b[K\n",
            "remote: Total 11 (delta 2), reused 0 (delta 0), pack-reused 0\u001b[K\n",
            "Unpacking objects: 100% (11/11), 15.42 KiB | 106.00 KiB/s, done.\n"
          ]
        }
      ]
    },
    {
      "cell_type": "code",
      "source": [
        "%cd \"/content/drive/My Drive/mini_nlp\"\n",
        "%ls"
      ],
      "metadata": {
        "colab": {
          "base_uri": "https://localhost:8080/"
        },
        "id": "ub56voq9EaHn",
        "outputId": "71f87ea6-63a1-4c7c-8772-7b70018e93e5"
      },
      "id": "ub56voq9EaHn",
      "execution_count": null,
      "outputs": [
        {
          "output_type": "stream",
          "name": "stdout",
          "text": [
            "/content/drive/My Drive/test3/mini_nlp\n",
            "action_ne.csv  action_pattern.csv  mini_nlp.ipynb  ne_value.csv\n"
          ]
        }
      ]
    },
    {
      "cell_type": "markdown",
      "source": [
        "### <font color=green>개체명 파일 : ne_value.csv</font>"
      ],
      "metadata": {
        "id": "kSaZKdED7WXu"
      },
      "id": "kSaZKdED7WXu"
    },
    {
      "cell_type": "code",
      "source": [
        "ne_value = pd.read_csv('ne_value.csv', encoding='utf-8')"
      ],
      "metadata": {
        "id": "zgv6VEayCwXO"
      },
      "id": "zgv6VEayCwXO",
      "execution_count": null,
      "outputs": []
    },
    {
      "cell_type": "code",
      "source": [
        "ne_value.head()"
      ],
      "metadata": {
        "colab": {
          "base_uri": "https://localhost:8080/",
          "height": 206
        },
        "id": "UPV4WHNKD9eC",
        "outputId": "955883ba-44ef-4459-b4d1-792ca422455e"
      },
      "id": "UPV4WHNKD9eC",
      "execution_count": null,
      "outputs": [
        {
          "output_type": "execute_result",
          "data": {
            "text/plain": [
              "           ne value\n",
              "0  Iot_device   에어컨\n",
              "1     lc_city    서울\n",
              "2     lc_city    부산\n",
              "3      dt_day    오늘\n",
              "4      dt_day    내일"
            ],
            "text/html": [
              "\n",
              "  <div id=\"df-889e6449-9bd8-4b4a-8e2e-fb7ecf7cb43a\">\n",
              "    <div class=\"colab-df-container\">\n",
              "      <div>\n",
              "<style scoped>\n",
              "    .dataframe tbody tr th:only-of-type {\n",
              "        vertical-align: middle;\n",
              "    }\n",
              "\n",
              "    .dataframe tbody tr th {\n",
              "        vertical-align: top;\n",
              "    }\n",
              "\n",
              "    .dataframe thead th {\n",
              "        text-align: right;\n",
              "    }\n",
              "</style>\n",
              "<table border=\"1\" class=\"dataframe\">\n",
              "  <thead>\n",
              "    <tr style=\"text-align: right;\">\n",
              "      <th></th>\n",
              "      <th>ne</th>\n",
              "      <th>value</th>\n",
              "    </tr>\n",
              "  </thead>\n",
              "  <tbody>\n",
              "    <tr>\n",
              "      <th>0</th>\n",
              "      <td>Iot_device</td>\n",
              "      <td>에어컨</td>\n",
              "    </tr>\n",
              "    <tr>\n",
              "      <th>1</th>\n",
              "      <td>lc_city</td>\n",
              "      <td>서울</td>\n",
              "    </tr>\n",
              "    <tr>\n",
              "      <th>2</th>\n",
              "      <td>lc_city</td>\n",
              "      <td>부산</td>\n",
              "    </tr>\n",
              "    <tr>\n",
              "      <th>3</th>\n",
              "      <td>dt_day</td>\n",
              "      <td>오늘</td>\n",
              "    </tr>\n",
              "    <tr>\n",
              "      <th>4</th>\n",
              "      <td>dt_day</td>\n",
              "      <td>내일</td>\n",
              "    </tr>\n",
              "  </tbody>\n",
              "</table>\n",
              "</div>\n",
              "      <button class=\"colab-df-convert\" onclick=\"convertToInteractive('df-889e6449-9bd8-4b4a-8e2e-fb7ecf7cb43a')\"\n",
              "              title=\"Convert this dataframe to an interactive table.\"\n",
              "              style=\"display:none;\">\n",
              "        \n",
              "  <svg xmlns=\"http://www.w3.org/2000/svg\" height=\"24px\"viewBox=\"0 0 24 24\"\n",
              "       width=\"24px\">\n",
              "    <path d=\"M0 0h24v24H0V0z\" fill=\"none\"/>\n",
              "    <path d=\"M18.56 5.44l.94 2.06.94-2.06 2.06-.94-2.06-.94-.94-2.06-.94 2.06-2.06.94zm-11 1L8.5 8.5l.94-2.06 2.06-.94-2.06-.94L8.5 2.5l-.94 2.06-2.06.94zm10 10l.94 2.06.94-2.06 2.06-.94-2.06-.94-.94-2.06-.94 2.06-2.06.94z\"/><path d=\"M17.41 7.96l-1.37-1.37c-.4-.4-.92-.59-1.43-.59-.52 0-1.04.2-1.43.59L10.3 9.45l-7.72 7.72c-.78.78-.78 2.05 0 2.83L4 21.41c.39.39.9.59 1.41.59.51 0 1.02-.2 1.41-.59l7.78-7.78 2.81-2.81c.8-.78.8-2.07 0-2.86zM5.41 20L4 18.59l7.72-7.72 1.47 1.35L5.41 20z\"/>\n",
              "  </svg>\n",
              "      </button>\n",
              "      \n",
              "  <style>\n",
              "    .colab-df-container {\n",
              "      display:flex;\n",
              "      flex-wrap:wrap;\n",
              "      gap: 12px;\n",
              "    }\n",
              "\n",
              "    .colab-df-convert {\n",
              "      background-color: #E8F0FE;\n",
              "      border: none;\n",
              "      border-radius: 50%;\n",
              "      cursor: pointer;\n",
              "      display: none;\n",
              "      fill: #1967D2;\n",
              "      height: 32px;\n",
              "      padding: 0 0 0 0;\n",
              "      width: 32px;\n",
              "    }\n",
              "\n",
              "    .colab-df-convert:hover {\n",
              "      background-color: #E2EBFA;\n",
              "      box-shadow: 0px 1px 2px rgba(60, 64, 67, 0.3), 0px 1px 3px 1px rgba(60, 64, 67, 0.15);\n",
              "      fill: #174EA6;\n",
              "    }\n",
              "\n",
              "    [theme=dark] .colab-df-convert {\n",
              "      background-color: #3B4455;\n",
              "      fill: #D2E3FC;\n",
              "    }\n",
              "\n",
              "    [theme=dark] .colab-df-convert:hover {\n",
              "      background-color: #434B5C;\n",
              "      box-shadow: 0px 1px 3px 1px rgba(0, 0, 0, 0.15);\n",
              "      filter: drop-shadow(0px 1px 2px rgba(0, 0, 0, 0.3));\n",
              "      fill: #FFFFFF;\n",
              "    }\n",
              "  </style>\n",
              "\n",
              "      <script>\n",
              "        const buttonEl =\n",
              "          document.querySelector('#df-889e6449-9bd8-4b4a-8e2e-fb7ecf7cb43a button.colab-df-convert');\n",
              "        buttonEl.style.display =\n",
              "          google.colab.kernel.accessAllowed ? 'block' : 'none';\n",
              "\n",
              "        async function convertToInteractive(key) {\n",
              "          const element = document.querySelector('#df-889e6449-9bd8-4b4a-8e2e-fb7ecf7cb43a');\n",
              "          const dataTable =\n",
              "            await google.colab.kernel.invokeFunction('convertToInteractive',\n",
              "                                                     [key], {});\n",
              "          if (!dataTable) return;\n",
              "\n",
              "          const docLinkHtml = 'Like what you see? Visit the ' +\n",
              "            '<a target=\"_blank\" href=https://colab.research.google.com/notebooks/data_table.ipynb>data table notebook</a>'\n",
              "            + ' to learn more about interactive tables.';\n",
              "          element.innerHTML = '';\n",
              "          dataTable['output_type'] = 'display_data';\n",
              "          await google.colab.output.renderOutput(dataTable, element);\n",
              "          const docLink = document.createElement('div');\n",
              "          docLink.innerHTML = docLinkHtml;\n",
              "          element.appendChild(docLink);\n",
              "        }\n",
              "      </script>\n",
              "    </div>\n",
              "  </div>\n",
              "  "
            ]
          },
          "metadata": {},
          "execution_count": 7
        }
      ]
    },
    {
      "cell_type": "markdown",
      "source": [],
      "metadata": {
        "id": "1LKtsjrqFK5s"
      },
      "id": "1LKtsjrqFK5s"
    },
    {
      "cell_type": "markdown",
      "source": [
        "### <font color=green>액션-개체명 파일 : action_ne.csv</font>"
      ],
      "metadata": {
        "id": "XnYdeF4SEkiJ"
      },
      "id": "XnYdeF4SEkiJ"
    },
    {
      "cell_type": "code",
      "source": [
        "action_ne = pd.read_csv('action_ne.csv', encoding='utf-8')"
      ],
      "metadata": {
        "id": "3p_sGIbpFJfU"
      },
      "id": "3p_sGIbpFJfU",
      "execution_count": null,
      "outputs": []
    },
    {
      "cell_type": "code",
      "source": [
        "action_ne.head()"
      ],
      "metadata": {
        "colab": {
          "base_uri": "https://localhost:8080/",
          "height": 206
        },
        "id": "IAw5usiM4yG1",
        "outputId": "4390498c-ce08-4bbf-e417-7bb1e3167cd0"
      },
      "id": "IAw5usiM4yG1",
      "execution_count": null,
      "outputs": [
        {
          "output_type": "execute_result",
          "data": {
            "text/plain": [
              "                action              ne\n",
              "0         tv_volume_up             NaN\n",
              "1       tv_volume_down             NaN\n",
              "2   sh_device_power_on      iot_device\n",
              "3  sh_device_power_off      iot_device\n",
              "4    wt_search_weather  dt_day|lc_city"
            ],
            "text/html": [
              "\n",
              "  <div id=\"df-67e5d8b1-af89-4544-be5c-a38dcb29c537\">\n",
              "    <div class=\"colab-df-container\">\n",
              "      <div>\n",
              "<style scoped>\n",
              "    .dataframe tbody tr th:only-of-type {\n",
              "        vertical-align: middle;\n",
              "    }\n",
              "\n",
              "    .dataframe tbody tr th {\n",
              "        vertical-align: top;\n",
              "    }\n",
              "\n",
              "    .dataframe thead th {\n",
              "        text-align: right;\n",
              "    }\n",
              "</style>\n",
              "<table border=\"1\" class=\"dataframe\">\n",
              "  <thead>\n",
              "    <tr style=\"text-align: right;\">\n",
              "      <th></th>\n",
              "      <th>action</th>\n",
              "      <th>ne</th>\n",
              "    </tr>\n",
              "  </thead>\n",
              "  <tbody>\n",
              "    <tr>\n",
              "      <th>0</th>\n",
              "      <td>tv_volume_up</td>\n",
              "      <td>NaN</td>\n",
              "    </tr>\n",
              "    <tr>\n",
              "      <th>1</th>\n",
              "      <td>tv_volume_down</td>\n",
              "      <td>NaN</td>\n",
              "    </tr>\n",
              "    <tr>\n",
              "      <th>2</th>\n",
              "      <td>sh_device_power_on</td>\n",
              "      <td>iot_device</td>\n",
              "    </tr>\n",
              "    <tr>\n",
              "      <th>3</th>\n",
              "      <td>sh_device_power_off</td>\n",
              "      <td>iot_device</td>\n",
              "    </tr>\n",
              "    <tr>\n",
              "      <th>4</th>\n",
              "      <td>wt_search_weather</td>\n",
              "      <td>dt_day|lc_city</td>\n",
              "    </tr>\n",
              "  </tbody>\n",
              "</table>\n",
              "</div>\n",
              "      <button class=\"colab-df-convert\" onclick=\"convertToInteractive('df-67e5d8b1-af89-4544-be5c-a38dcb29c537')\"\n",
              "              title=\"Convert this dataframe to an interactive table.\"\n",
              "              style=\"display:none;\">\n",
              "        \n",
              "  <svg xmlns=\"http://www.w3.org/2000/svg\" height=\"24px\"viewBox=\"0 0 24 24\"\n",
              "       width=\"24px\">\n",
              "    <path d=\"M0 0h24v24H0V0z\" fill=\"none\"/>\n",
              "    <path d=\"M18.56 5.44l.94 2.06.94-2.06 2.06-.94-2.06-.94-.94-2.06-.94 2.06-2.06.94zm-11 1L8.5 8.5l.94-2.06 2.06-.94-2.06-.94L8.5 2.5l-.94 2.06-2.06.94zm10 10l.94 2.06.94-2.06 2.06-.94-2.06-.94-.94-2.06-.94 2.06-2.06.94z\"/><path d=\"M17.41 7.96l-1.37-1.37c-.4-.4-.92-.59-1.43-.59-.52 0-1.04.2-1.43.59L10.3 9.45l-7.72 7.72c-.78.78-.78 2.05 0 2.83L4 21.41c.39.39.9.59 1.41.59.51 0 1.02-.2 1.41-.59l7.78-7.78 2.81-2.81c.8-.78.8-2.07 0-2.86zM5.41 20L4 18.59l7.72-7.72 1.47 1.35L5.41 20z\"/>\n",
              "  </svg>\n",
              "      </button>\n",
              "      \n",
              "  <style>\n",
              "    .colab-df-container {\n",
              "      display:flex;\n",
              "      flex-wrap:wrap;\n",
              "      gap: 12px;\n",
              "    }\n",
              "\n",
              "    .colab-df-convert {\n",
              "      background-color: #E8F0FE;\n",
              "      border: none;\n",
              "      border-radius: 50%;\n",
              "      cursor: pointer;\n",
              "      display: none;\n",
              "      fill: #1967D2;\n",
              "      height: 32px;\n",
              "      padding: 0 0 0 0;\n",
              "      width: 32px;\n",
              "    }\n",
              "\n",
              "    .colab-df-convert:hover {\n",
              "      background-color: #E2EBFA;\n",
              "      box-shadow: 0px 1px 2px rgba(60, 64, 67, 0.3), 0px 1px 3px 1px rgba(60, 64, 67, 0.15);\n",
              "      fill: #174EA6;\n",
              "    }\n",
              "\n",
              "    [theme=dark] .colab-df-convert {\n",
              "      background-color: #3B4455;\n",
              "      fill: #D2E3FC;\n",
              "    }\n",
              "\n",
              "    [theme=dark] .colab-df-convert:hover {\n",
              "      background-color: #434B5C;\n",
              "      box-shadow: 0px 1px 3px 1px rgba(0, 0, 0, 0.15);\n",
              "      filter: drop-shadow(0px 1px 2px rgba(0, 0, 0, 0.3));\n",
              "      fill: #FFFFFF;\n",
              "    }\n",
              "  </style>\n",
              "\n",
              "      <script>\n",
              "        const buttonEl =\n",
              "          document.querySelector('#df-67e5d8b1-af89-4544-be5c-a38dcb29c537 button.colab-df-convert');\n",
              "        buttonEl.style.display =\n",
              "          google.colab.kernel.accessAllowed ? 'block' : 'none';\n",
              "\n",
              "        async function convertToInteractive(key) {\n",
              "          const element = document.querySelector('#df-67e5d8b1-af89-4544-be5c-a38dcb29c537');\n",
              "          const dataTable =\n",
              "            await google.colab.kernel.invokeFunction('convertToInteractive',\n",
              "                                                     [key], {});\n",
              "          if (!dataTable) return;\n",
              "\n",
              "          const docLinkHtml = 'Like what you see? Visit the ' +\n",
              "            '<a target=\"_blank\" href=https://colab.research.google.com/notebooks/data_table.ipynb>data table notebook</a>'\n",
              "            + ' to learn more about interactive tables.';\n",
              "          element.innerHTML = '';\n",
              "          dataTable['output_type'] = 'display_data';\n",
              "          await google.colab.output.renderOutput(dataTable, element);\n",
              "          const docLink = document.createElement('div');\n",
              "          docLink.innerHTML = docLinkHtml;\n",
              "          element.appendChild(docLink);\n",
              "        }\n",
              "      </script>\n",
              "    </div>\n",
              "  </div>\n",
              "  "
            ]
          },
          "metadata": {},
          "execution_count": 228
        }
      ]
    },
    {
      "cell_type": "markdown",
      "source": [
        "### <font color=green> 액션-패턴 파일 : action_pattern.csv </font>"
      ],
      "metadata": {
        "id": "leBeUkFSE3eL"
      },
      "id": "leBeUkFSE3eL"
    },
    {
      "cell_type": "code",
      "source": [
        "action_pattern = pd.read_csv('action_pattern.csv', encoding='utf-8')"
      ],
      "metadata": {
        "id": "u9Spr8krEiN6"
      },
      "id": "u9Spr8krEiN6",
      "execution_count": null,
      "outputs": []
    },
    {
      "cell_type": "code",
      "source": [
        "action_pattern.head()"
      ],
      "metadata": {
        "colab": {
          "base_uri": "https://localhost:8080/",
          "height": 206
        },
        "id": "nhbzXBJI47l8",
        "outputId": "1164336f-b6c2-4687-d3da-e57a8fec3950"
      },
      "id": "nhbzXBJI47l8",
      "execution_count": null,
      "outputs": [
        {
          "output_type": "execute_result",
          "data": {
            "text/plain": [
              "                action        pattern\n",
              "0         tv_volume_up          볼륨 올려\n",
              "1       tv_volume_down          볼륨 내려\n",
              "2   sh_device_power_on  iot_device 켜줘\n",
              "3  sh_device_power_off  iot_device 꺼줘\n",
              "4    wt_search_weather      dt_day 날씨"
            ],
            "text/html": [
              "\n",
              "  <div id=\"df-5e942db9-ed1a-4064-bc36-604a563b9ac2\">\n",
              "    <div class=\"colab-df-container\">\n",
              "      <div>\n",
              "<style scoped>\n",
              "    .dataframe tbody tr th:only-of-type {\n",
              "        vertical-align: middle;\n",
              "    }\n",
              "\n",
              "    .dataframe tbody tr th {\n",
              "        vertical-align: top;\n",
              "    }\n",
              "\n",
              "    .dataframe thead th {\n",
              "        text-align: right;\n",
              "    }\n",
              "</style>\n",
              "<table border=\"1\" class=\"dataframe\">\n",
              "  <thead>\n",
              "    <tr style=\"text-align: right;\">\n",
              "      <th></th>\n",
              "      <th>action</th>\n",
              "      <th>pattern</th>\n",
              "    </tr>\n",
              "  </thead>\n",
              "  <tbody>\n",
              "    <tr>\n",
              "      <th>0</th>\n",
              "      <td>tv_volume_up</td>\n",
              "      <td>볼륨 올려</td>\n",
              "    </tr>\n",
              "    <tr>\n",
              "      <th>1</th>\n",
              "      <td>tv_volume_down</td>\n",
              "      <td>볼륨 내려</td>\n",
              "    </tr>\n",
              "    <tr>\n",
              "      <th>2</th>\n",
              "      <td>sh_device_power_on</td>\n",
              "      <td>iot_device 켜줘</td>\n",
              "    </tr>\n",
              "    <tr>\n",
              "      <th>3</th>\n",
              "      <td>sh_device_power_off</td>\n",
              "      <td>iot_device 꺼줘</td>\n",
              "    </tr>\n",
              "    <tr>\n",
              "      <th>4</th>\n",
              "      <td>wt_search_weather</td>\n",
              "      <td>dt_day 날씨</td>\n",
              "    </tr>\n",
              "  </tbody>\n",
              "</table>\n",
              "</div>\n",
              "      <button class=\"colab-df-convert\" onclick=\"convertToInteractive('df-5e942db9-ed1a-4064-bc36-604a563b9ac2')\"\n",
              "              title=\"Convert this dataframe to an interactive table.\"\n",
              "              style=\"display:none;\">\n",
              "        \n",
              "  <svg xmlns=\"http://www.w3.org/2000/svg\" height=\"24px\"viewBox=\"0 0 24 24\"\n",
              "       width=\"24px\">\n",
              "    <path d=\"M0 0h24v24H0V0z\" fill=\"none\"/>\n",
              "    <path d=\"M18.56 5.44l.94 2.06.94-2.06 2.06-.94-2.06-.94-.94-2.06-.94 2.06-2.06.94zm-11 1L8.5 8.5l.94-2.06 2.06-.94-2.06-.94L8.5 2.5l-.94 2.06-2.06.94zm10 10l.94 2.06.94-2.06 2.06-.94-2.06-.94-.94-2.06-.94 2.06-2.06.94z\"/><path d=\"M17.41 7.96l-1.37-1.37c-.4-.4-.92-.59-1.43-.59-.52 0-1.04.2-1.43.59L10.3 9.45l-7.72 7.72c-.78.78-.78 2.05 0 2.83L4 21.41c.39.39.9.59 1.41.59.51 0 1.02-.2 1.41-.59l7.78-7.78 2.81-2.81c.8-.78.8-2.07 0-2.86zM5.41 20L4 18.59l7.72-7.72 1.47 1.35L5.41 20z\"/>\n",
              "  </svg>\n",
              "      </button>\n",
              "      \n",
              "  <style>\n",
              "    .colab-df-container {\n",
              "      display:flex;\n",
              "      flex-wrap:wrap;\n",
              "      gap: 12px;\n",
              "    }\n",
              "\n",
              "    .colab-df-convert {\n",
              "      background-color: #E8F0FE;\n",
              "      border: none;\n",
              "      border-radius: 50%;\n",
              "      cursor: pointer;\n",
              "      display: none;\n",
              "      fill: #1967D2;\n",
              "      height: 32px;\n",
              "      padding: 0 0 0 0;\n",
              "      width: 32px;\n",
              "    }\n",
              "\n",
              "    .colab-df-convert:hover {\n",
              "      background-color: #E2EBFA;\n",
              "      box-shadow: 0px 1px 2px rgba(60, 64, 67, 0.3), 0px 1px 3px 1px rgba(60, 64, 67, 0.15);\n",
              "      fill: #174EA6;\n",
              "    }\n",
              "\n",
              "    [theme=dark] .colab-df-convert {\n",
              "      background-color: #3B4455;\n",
              "      fill: #D2E3FC;\n",
              "    }\n",
              "\n",
              "    [theme=dark] .colab-df-convert:hover {\n",
              "      background-color: #434B5C;\n",
              "      box-shadow: 0px 1px 3px 1px rgba(0, 0, 0, 0.15);\n",
              "      filter: drop-shadow(0px 1px 2px rgba(0, 0, 0, 0.3));\n",
              "      fill: #FFFFFF;\n",
              "    }\n",
              "  </style>\n",
              "\n",
              "      <script>\n",
              "        const buttonEl =\n",
              "          document.querySelector('#df-5e942db9-ed1a-4064-bc36-604a563b9ac2 button.colab-df-convert');\n",
              "        buttonEl.style.display =\n",
              "          google.colab.kernel.accessAllowed ? 'block' : 'none';\n",
              "\n",
              "        async function convertToInteractive(key) {\n",
              "          const element = document.querySelector('#df-5e942db9-ed1a-4064-bc36-604a563b9ac2');\n",
              "          const dataTable =\n",
              "            await google.colab.kernel.invokeFunction('convertToInteractive',\n",
              "                                                     [key], {});\n",
              "          if (!dataTable) return;\n",
              "\n",
              "          const docLinkHtml = 'Like what you see? Visit the ' +\n",
              "            '<a target=\"_blank\" href=https://colab.research.google.com/notebooks/data_table.ipynb>data table notebook</a>'\n",
              "            + ' to learn more about interactive tables.';\n",
              "          element.innerHTML = '';\n",
              "          dataTable['output_type'] = 'display_data';\n",
              "          await google.colab.output.renderOutput(dataTable, element);\n",
              "          const docLink = document.createElement('div');\n",
              "          docLink.innerHTML = docLinkHtml;\n",
              "          element.appendChild(docLink);\n",
              "        }\n",
              "      </script>\n",
              "    </div>\n",
              "  </div>\n",
              "  "
            ]
          },
          "metadata": {},
          "execution_count": 167
        }
      ]
    },
    {
      "cell_type": "markdown",
      "source": [
        "# 2. 발화 형태소 분석"
      ],
      "metadata": {
        "id": "D6CgTW4EFRq4"
      },
      "id": "D6CgTW4EFRq4"
    },
    {
      "cell_type": "markdown",
      "source": [
        "### <font color=green>Komoran tag 종류 확인</font>"
      ],
      "metadata": {
        "id": "nZBh7Vna5ztL"
      },
      "id": "nZBh7Vna5ztL"
    },
    {
      "cell_type": "code",
      "source": [
        "komoran = Komoran()\n",
        "komoran.tagset"
      ],
      "metadata": {
        "id": "qoTKMSKcEiZg"
      },
      "id": "qoTKMSKcEiZg",
      "execution_count": null,
      "outputs": []
    },
    {
      "cell_type": "markdown",
      "source": [
        "### <font color=green> Komoran 사용 예시</font>"
      ],
      "metadata": {
        "id": "8FaNqjIt5vIt"
      },
      "id": "8FaNqjIt5vIt"
    },
    {
      "cell_type": "code",
      "source": [
        "komoran.pos(\"KOMORAN은 한국어 형태소 분석기입니다\")"
      ],
      "metadata": {
        "id": "_-adJ0iUFXy_",
        "colab": {
          "base_uri": "https://localhost:8080/"
        },
        "outputId": "5ddc1f7b-6f63-4392-8f87-2394708533e4"
      },
      "id": "_-adJ0iUFXy_",
      "execution_count": null,
      "outputs": [
        {
          "output_type": "execute_result",
          "data": {
            "text/plain": [
              "[('KOMORAN', 'SL'),\n",
              " ('은', 'JX'),\n",
              " ('한국어', 'NNP'),\n",
              " ('형태소', 'NNP'),\n",
              " ('분석기', 'NNG'),\n",
              " ('이', 'VCP'),\n",
              " ('ㅂ니다', 'EC')]"
            ]
          },
          "metadata": {},
          "execution_count": 18
        }
      ]
    },
    {
      "cell_type": "code",
      "source": [
        "komoran.pos(\"서울 오늘 내일 에어컨 날씨 보여줘\")"
      ],
      "metadata": {
        "colab": {
          "base_uri": "https://localhost:8080/"
        },
        "id": "9eQv1jVzFIVE",
        "outputId": "118ed16e-fdbf-4594-ee9a-fd182af53cb0"
      },
      "id": "9eQv1jVzFIVE",
      "execution_count": null,
      "outputs": [
        {
          "output_type": "execute_result",
          "data": {
            "text/plain": [
              "[('서울', 'NNP'),\n",
              " ('오늘', 'NNG'),\n",
              " ('내일', 'NNG'),\n",
              " ('에어컨', 'NNP'),\n",
              " ('날씨', 'NNP'),\n",
              " ('보이', 'VV'),\n",
              " ('어', 'EC'),\n",
              " ('주', 'VX'),\n",
              " ('어', 'EC')]"
            ]
          },
          "metadata": {},
          "execution_count": 141
        }
      ]
    },
    {
      "cell_type": "markdown",
      "source": [
        "### <font color=green> 액션-패턴 파일 변경하여 저장</font>"
      ],
      "metadata": {
        "id": "6yIks5Si79Zt"
      },
      "id": "6yIks5Si79Zt"
    },
    {
      "cell_type": "code",
      "source": [
        "pos_words = action_pattern[\"pattern\"].apply(lambda x: komoran.pos(x))\n",
        "pos_words"
      ],
      "metadata": {
        "colab": {
          "base_uri": "https://localhost:8080/"
        },
        "id": "8zR75KtQ_5S6",
        "outputId": "ececdc23-8273-41d6-9aa4-642cc0c6465a"
      },
      "id": "8zR75KtQ_5S6",
      "execution_count": null,
      "outputs": [
        {
          "output_type": "execute_result",
          "data": {
            "text/plain": [
              "0                       [(볼륨, NNP), (올리, VV), (어, EC)]\n",
              "1                       [(볼륨, NNP), (내리, VV), (어, EC)]\n",
              "2    [(iot, SL), (_, SW), (device, SL), (켜, VV), (어...\n",
              "3    [(iot, SL), (_, SW), (device, SL), (끄, VV), (어...\n",
              "4            [(dt, SL), (_, SW), (day, SL), (날씨, NNP)]\n",
              "5    [(dt, SL), (_, SW), (day, SL), (날씨, NNP), (알리,...\n",
              "6           [(lc, SL), (_, SW), (city, SL), (날씨, NNP)]\n",
              "7    [(lc, SL), (_, SW), (city, SL), (날씨, NNP), (알리...\n",
              "Name: pattern, dtype: object"
            ]
          },
          "metadata": {},
          "execution_count": 68
        }
      ]
    },
    {
      "cell_type": "markdown",
      "source": [
        "##### <font color=blue> **[문제] 액션-패턴 파일의 내용을 komoran pos 함수를 이용하여 형태소 분석된 내용으로 \"pattern\" 컬럼에 저장하세요.** </font>"
      ],
      "metadata": {
        "id": "U98b8pUhCPDN"
      },
      "id": "U98b8pUhCPDN"
    },
    {
      "cell_type": "code",
      "source": [
        "# 읽어 들일 파일명 : action_pattern.csv\n",
        "# komoran pos 함수 활용\n",
        "# 액션-패턴 정보(action_pattern) 중 \"pattern\" 내용에 대해 형태소 분석 내용 반영\n",
        "# '연결 어미'(EC), '보조 용언'(VX) 제거, ne 명칭(ex. dt_day) 유지\n",
        "# 결과 : \"action_pattern_komoran.csv\" 파일로 저장\n",
        "\n",
        "# 변경 내용 (volume_up 등의 action은 본형태 유지)\n",
        "## volume_up  볼륨 올려 -> volume_up  볼륨 올리 어\n",
        "## wt_search_weather\tdt_day 날씨 알려줘 -> wt_search_weather\tdt_day 날씨 알리\n",
        "\n",
        "action_pattern_komoran = action_pattern\n",
        "\n",
        "def create_pos_pattern(text):\n",
        "  text = komoran.pos(text)\n",
        "  words = []\n",
        "  patterns = []\n",
        "  \n",
        "  for word in text:\n",
        "    if(word[1] in [\"SL\", \"SW\"]):\n",
        "      words.append(word[0])\n",
        "    elif(word[1] not in [\"EC\", \"VX\"]):      \n",
        "      words.append(\" \" + word[0])\n",
        "\n",
        "  pattern = ''.join(words).strip()\n",
        "  return pattern\n",
        "\n",
        "action_pattern_komoran[\"pattern\"] = action_pattern_komoran[\"pattern\"].apply(lambda x: create_pos_pattern(x))\n",
        "action_pattern_komoran.to_csv('action_pattern_komoran.csv', index=False)"
      ],
      "metadata": {
        "id": "CL0CXMzU9D3q"
      },
      "id": "CL0CXMzU9D3q",
      "execution_count": null,
      "outputs": []
    },
    {
      "cell_type": "code",
      "source": [
        "action_pattern_komoran = pd.read_csv('action_pattern_komoran.csv', encoding='utf-8')\n",
        "action_pattern_komoran"
      ],
      "metadata": {
        "colab": {
          "base_uri": "https://localhost:8080/",
          "height": 300
        },
        "id": "d7ftKQF4JcoC",
        "outputId": "d4ddac93-b6a1-4272-fdb7-716a400b3c31"
      },
      "id": "d7ftKQF4JcoC",
      "execution_count": null,
      "outputs": [
        {
          "output_type": "execute_result",
          "data": {
            "text/plain": [
              "                action        pattern\n",
              "0         tv_volume_up         볼륨 올 리\n",
              "1       tv_volume_down          볼륨 내리\n",
              "2   sh_device_power_on   iot_device 켜\n",
              "3  sh_device_power_off   iot_device 끄\n",
              "4    wt_search_weather      dt_day 날씨\n",
              "5    wt_search_weather   dt_day 날씨 알리\n",
              "6    wt_search_weather     lc_city 날씨\n",
              "7    wt_search_weather  lc_city 날씨 알리"
            ],
            "text/html": [
              "\n",
              "  <div id=\"df-06061018-f774-4d5e-87ac-6a263a86edf3\">\n",
              "    <div class=\"colab-df-container\">\n",
              "      <div>\n",
              "<style scoped>\n",
              "    .dataframe tbody tr th:only-of-type {\n",
              "        vertical-align: middle;\n",
              "    }\n",
              "\n",
              "    .dataframe tbody tr th {\n",
              "        vertical-align: top;\n",
              "    }\n",
              "\n",
              "    .dataframe thead th {\n",
              "        text-align: right;\n",
              "    }\n",
              "</style>\n",
              "<table border=\"1\" class=\"dataframe\">\n",
              "  <thead>\n",
              "    <tr style=\"text-align: right;\">\n",
              "      <th></th>\n",
              "      <th>action</th>\n",
              "      <th>pattern</th>\n",
              "    </tr>\n",
              "  </thead>\n",
              "  <tbody>\n",
              "    <tr>\n",
              "      <th>0</th>\n",
              "      <td>tv_volume_up</td>\n",
              "      <td>볼륨 올 리</td>\n",
              "    </tr>\n",
              "    <tr>\n",
              "      <th>1</th>\n",
              "      <td>tv_volume_down</td>\n",
              "      <td>볼륨 내리</td>\n",
              "    </tr>\n",
              "    <tr>\n",
              "      <th>2</th>\n",
              "      <td>sh_device_power_on</td>\n",
              "      <td>iot_device 켜</td>\n",
              "    </tr>\n",
              "    <tr>\n",
              "      <th>3</th>\n",
              "      <td>sh_device_power_off</td>\n",
              "      <td>iot_device 끄</td>\n",
              "    </tr>\n",
              "    <tr>\n",
              "      <th>4</th>\n",
              "      <td>wt_search_weather</td>\n",
              "      <td>dt_day 날씨</td>\n",
              "    </tr>\n",
              "    <tr>\n",
              "      <th>5</th>\n",
              "      <td>wt_search_weather</td>\n",
              "      <td>dt_day 날씨 알리</td>\n",
              "    </tr>\n",
              "    <tr>\n",
              "      <th>6</th>\n",
              "      <td>wt_search_weather</td>\n",
              "      <td>lc_city 날씨</td>\n",
              "    </tr>\n",
              "    <tr>\n",
              "      <th>7</th>\n",
              "      <td>wt_search_weather</td>\n",
              "      <td>lc_city 날씨 알리</td>\n",
              "    </tr>\n",
              "  </tbody>\n",
              "</table>\n",
              "</div>\n",
              "      <button class=\"colab-df-convert\" onclick=\"convertToInteractive('df-06061018-f774-4d5e-87ac-6a263a86edf3')\"\n",
              "              title=\"Convert this dataframe to an interactive table.\"\n",
              "              style=\"display:none;\">\n",
              "        \n",
              "  <svg xmlns=\"http://www.w3.org/2000/svg\" height=\"24px\"viewBox=\"0 0 24 24\"\n",
              "       width=\"24px\">\n",
              "    <path d=\"M0 0h24v24H0V0z\" fill=\"none\"/>\n",
              "    <path d=\"M18.56 5.44l.94 2.06.94-2.06 2.06-.94-2.06-.94-.94-2.06-.94 2.06-2.06.94zm-11 1L8.5 8.5l.94-2.06 2.06-.94-2.06-.94L8.5 2.5l-.94 2.06-2.06.94zm10 10l.94 2.06.94-2.06 2.06-.94-2.06-.94-.94-2.06-.94 2.06-2.06.94z\"/><path d=\"M17.41 7.96l-1.37-1.37c-.4-.4-.92-.59-1.43-.59-.52 0-1.04.2-1.43.59L10.3 9.45l-7.72 7.72c-.78.78-.78 2.05 0 2.83L4 21.41c.39.39.9.59 1.41.59.51 0 1.02-.2 1.41-.59l7.78-7.78 2.81-2.81c.8-.78.8-2.07 0-2.86zM5.41 20L4 18.59l7.72-7.72 1.47 1.35L5.41 20z\"/>\n",
              "  </svg>\n",
              "      </button>\n",
              "      \n",
              "  <style>\n",
              "    .colab-df-container {\n",
              "      display:flex;\n",
              "      flex-wrap:wrap;\n",
              "      gap: 12px;\n",
              "    }\n",
              "\n",
              "    .colab-df-convert {\n",
              "      background-color: #E8F0FE;\n",
              "      border: none;\n",
              "      border-radius: 50%;\n",
              "      cursor: pointer;\n",
              "      display: none;\n",
              "      fill: #1967D2;\n",
              "      height: 32px;\n",
              "      padding: 0 0 0 0;\n",
              "      width: 32px;\n",
              "    }\n",
              "\n",
              "    .colab-df-convert:hover {\n",
              "      background-color: #E2EBFA;\n",
              "      box-shadow: 0px 1px 2px rgba(60, 64, 67, 0.3), 0px 1px 3px 1px rgba(60, 64, 67, 0.15);\n",
              "      fill: #174EA6;\n",
              "    }\n",
              "\n",
              "    [theme=dark] .colab-df-convert {\n",
              "      background-color: #3B4455;\n",
              "      fill: #D2E3FC;\n",
              "    }\n",
              "\n",
              "    [theme=dark] .colab-df-convert:hover {\n",
              "      background-color: #434B5C;\n",
              "      box-shadow: 0px 1px 3px 1px rgba(0, 0, 0, 0.15);\n",
              "      filter: drop-shadow(0px 1px 2px rgba(0, 0, 0, 0.3));\n",
              "      fill: #FFFFFF;\n",
              "    }\n",
              "  </style>\n",
              "\n",
              "      <script>\n",
              "        const buttonEl =\n",
              "          document.querySelector('#df-06061018-f774-4d5e-87ac-6a263a86edf3 button.colab-df-convert');\n",
              "        buttonEl.style.display =\n",
              "          google.colab.kernel.accessAllowed ? 'block' : 'none';\n",
              "\n",
              "        async function convertToInteractive(key) {\n",
              "          const element = document.querySelector('#df-06061018-f774-4d5e-87ac-6a263a86edf3');\n",
              "          const dataTable =\n",
              "            await google.colab.kernel.invokeFunction('convertToInteractive',\n",
              "                                                     [key], {});\n",
              "          if (!dataTable) return;\n",
              "\n",
              "          const docLinkHtml = 'Like what you see? Visit the ' +\n",
              "            '<a target=\"_blank\" href=https://colab.research.google.com/notebooks/data_table.ipynb>data table notebook</a>'\n",
              "            + ' to learn more about interactive tables.';\n",
              "          element.innerHTML = '';\n",
              "          dataTable['output_type'] = 'display_data';\n",
              "          await google.colab.output.renderOutput(dataTable, element);\n",
              "          const docLink = document.createElement('div');\n",
              "          docLink.innerHTML = docLinkHtml;\n",
              "          element.appendChild(docLink);\n",
              "        }\n",
              "      </script>\n",
              "    </div>\n",
              "  </div>\n",
              "  "
            ]
          },
          "metadata": {},
          "execution_count": 87
        }
      ]
    },
    {
      "cell_type": "markdown",
      "source": [
        "# 3. 개체명 검색\n"
      ],
      "metadata": {
        "id": "rXGEXc_SKcnh"
      },
      "id": "rXGEXc_SKcnh"
    },
    {
      "cell_type": "markdown",
      "source": [
        "##### <font color=blue> **[문제] 분석된 형태소 중 명사에 한하여 개체명을 검색하여 치환하세요.** </font>"
      ],
      "metadata": {
        "id": "SHAgEMd1K4IR"
      },
      "id": "SHAgEMd1K4IR"
    },
    {
      "cell_type": "code",
      "source": [
        "# 읽어 들일 파일명 : ne_value.csv\n",
        "# 함수명 : replace_ne()\n",
        "# komoran pos 함수 활용 : 명사(NNP, NNG)에 한하여 개체명을 검색한 후 개체명 이름(ne)로 치환\n",
        "# 개체명이 치환된 패턴을 반환\n",
        "\n",
        "ne_value = pd.read_csv('ne_value.csv', encoding='utf-8')\n",
        "\n",
        "def replace_ne(text):\n",
        "  pos = komoran.pos(text)\n",
        "\n",
        "  for word in pos:\n",
        "    if(word[1] in [\"NNP\", \"NNG\"]):\n",
        "      for row in ne_value.itertuples():\n",
        "          if(word[0] == row.value):\n",
        "            text = text.replace(row.value, row.ne)\n",
        "  return text\n",
        "\n",
        "text = replace_ne(\"내일 날씨 알려줘\")\n",
        "text"
      ],
      "metadata": {
        "colab": {
          "base_uri": "https://localhost:8080/",
          "height": 35
        },
        "id": "pUhM_z4sPkpm",
        "outputId": "d65d169c-722f-46ed-ebfc-3537aec1d263"
      },
      "id": "pUhM_z4sPkpm",
      "execution_count": null,
      "outputs": [
        {
          "output_type": "execute_result",
          "data": {
            "text/plain": [
              "'dt_day 날씨 알려줘'"
            ],
            "application/vnd.google.colaboratory.intrinsic+json": {
              "type": "string"
            }
          },
          "metadata": {},
          "execution_count": 223
        }
      ]
    },
    {
      "cell_type": "markdown",
      "source": [
        "# 4. 패턴 검색"
      ],
      "metadata": {
        "id": "aaruIrgSVmIj"
      },
      "id": "aaruIrgSVmIj"
    },
    {
      "cell_type": "markdown",
      "source": [
        "##### <font color=blue> **[문제] 입력되는 발화에 일치되는 패턴을 있는지 검색하여 결과를 출력하세요.** </font>"
      ],
      "metadata": {
        "id": "pKhRNXgIX-uk"
      },
      "id": "pKhRNXgIX-uk"
    },
    {
      "cell_type": "code",
      "execution_count": null,
      "id": "d0639fee",
      "metadata": {
        "id": "d0639fee",
        "colab": {
          "base_uri": "https://localhost:8080/"
        },
        "outputId": "1f1b19b3-f212-42e0-8d31-0d2500661a3b"
      },
      "outputs": [
        {
          "output_type": "stream",
          "name": "stdout",
          "text": [
            "test pattern:  오늘 날씨\n",
            "pos:  [('오늘', 'NNG'), ('날씨', 'NNP')]\n",
            "matched pattern:  dt_day 날씨\n",
            "detected action:  wt_search_weather\n"
          ]
        }
      ],
      "source": [
        "# 읽어 들일 파일명 : action_pattern_komoran.csv, action_ne.csv\n",
        "# 함수명 : detect_pattern()\n",
        "\n",
        "# action_ne.csv 파일에 선언된 action을 모두 점검\n",
        "# replace_ne() 함수 내용 참조: 개체명 치환 시 사용\n",
        "# 개체명 치환 전 해당 action 에서 허용하는 NE 인지 확인 (action_ne.csv)\n",
        "# komoran.pos 함수 활용\n",
        "# 일치하는 패턴 발견 시 액션 반환, 발견하지 못하면 None 반환\n",
        "\n",
        "action_ne = pd.read_csv('action_ne.csv', encoding='utf-8')\n",
        "\n",
        "patterns = pd.read_csv('action_pattern_komoran.csv', encoding='utf-8')\n",
        "pattern_action = pd.Series(patterns.action.values, index=patterns.pattern).to_dict()\n",
        "\n",
        "def detect_pattern(text):\n",
        "  result_dict = {\"pos\":'', \"matched pattern\":'None', \"detected action\":'None'}\n",
        "  pos = komoran.pos(text)\n",
        "  result_dict[\"pos\"] = pos\n",
        "\n",
        "  for actions in action_ne.itertuples():\n",
        "    \n",
        "    # 해당 action 에서 허용하는 NE인지 확인 후 개체명 치환\n",
        "    for word in pos:\n",
        "      if(word[1] in [\"NNP\", \"NNG\"]):\n",
        "        for row in ne_value.itertuples():\n",
        "          if(word[0] == row.value and not pd.isna(actions.ne) and row.ne == actions.ne):\n",
        "            text = text.replace(row.value, row.ne)\n",
        "\n",
        "    # 일치하는 패턴이 있는지 확인\n",
        "    for pattern, action in pattern_action.items():\n",
        "      if text == pattern:\n",
        "        result_dict[\"matched pattern\"] = pattern\n",
        "        result_dict[\"detected action\"] = action\n",
        "  return result_dict\n",
        "\n",
        "test_pattern = \"오늘 날씨\"\n",
        "result = detect_pattern(test_pattern)\n",
        "\n",
        "print(\"test pattern: \", test_pattern)\n",
        "print(\"pos: \", result[\"pos\"])\n",
        "print(\"matched pattern: \", result[\"matched pattern\"])\n",
        "print(\"detected action: \", result[\"detected action\"])\n"
      ]
    }
  ],
  "metadata": {
    "kernelspec": {
      "display_name": "Python 3 (ipykernel)",
      "language": "python",
      "name": "python3"
    },
    "language_info": {
      "codemirror_mode": {
        "name": "ipython",
        "version": 3
      },
      "file_extension": ".py",
      "mimetype": "text/x-python",
      "name": "python",
      "nbconvert_exporter": "python",
      "pygments_lexer": "ipython3",
      "version": "3.7.0"
    },
    "colab": {
      "provenance": []
    }
  },
  "nbformat": 4,
  "nbformat_minor": 5
}